{
 "cells": [
  {
   "cell_type": "code",
   "execution_count": 2,
   "id": "8101de0d",
   "metadata": {},
   "outputs": [
    {
     "ename": "ValueError",
     "evalue": "Mime type rendering requires nbformat>=4.2.0 but it is not installed",
     "output_type": "error",
     "traceback": [
      "\u001b[0;31m---------------------------------------------------------------------------\u001b[0m",
      "\u001b[0;31mValueError\u001b[0m                                Traceback (most recent call last)",
      "Cell \u001b[0;32mIn[2], line 48\u001b[0m\n\u001b[1;32m     44\u001b[0m fig2d\u001b[38;5;241m.\u001b[39mupdate_traces(textposition\u001b[38;5;241m=\u001b[39m\u001b[38;5;124m'\u001b[39m\u001b[38;5;124mtop center\u001b[39m\u001b[38;5;124m'\u001b[39m, \n\u001b[1;32m     45\u001b[0m                   marker\u001b[38;5;241m=\u001b[39m\u001b[38;5;28mdict\u001b[39m(size\u001b[38;5;241m=\u001b[39m\u001b[38;5;241m12\u001b[39m, opacity\u001b[38;5;241m=\u001b[39m\u001b[38;5;241m0.8\u001b[39m),\n\u001b[1;32m     46\u001b[0m                   textfont\u001b[38;5;241m=\u001b[39m\u001b[38;5;28mdict\u001b[39m(size\u001b[38;5;241m=\u001b[39m\u001b[38;5;241m10\u001b[39m))\n\u001b[1;32m     47\u001b[0m fig2d\u001b[38;5;241m.\u001b[39mupdate_layout(height\u001b[38;5;241m=\u001b[39m\u001b[38;5;241m800\u001b[39m, width\u001b[38;5;241m=\u001b[39m\u001b[38;5;241m1200\u001b[39m)\n\u001b[0;32m---> 48\u001b[0m \u001b[43mfig2d\u001b[49m\u001b[38;5;241;43m.\u001b[39;49m\u001b[43mshow\u001b[49m\u001b[43m(\u001b[49m\u001b[43m)\u001b[49m\n",
      "File \u001b[0;32m~/miniconda3/envs/esm3/lib/python3.10/site-packages/plotly/basedatatypes.py:3436\u001b[0m, in \u001b[0;36mBaseFigure.show\u001b[0;34m(self, *args, **kwargs)\u001b[0m\n\u001b[1;32m   3403\u001b[0m \u001b[38;5;250m\u001b[39m\u001b[38;5;124;03m\"\"\"\u001b[39;00m\n\u001b[1;32m   3404\u001b[0m \u001b[38;5;124;03mShow a figure using either the default renderer(s) or the renderer(s)\u001b[39;00m\n\u001b[1;32m   3405\u001b[0m \u001b[38;5;124;03mspecified by the renderer argument\u001b[39;00m\n\u001b[0;32m   (...)\u001b[0m\n\u001b[1;32m   3432\u001b[0m \u001b[38;5;124;03mNone\u001b[39;00m\n\u001b[1;32m   3433\u001b[0m \u001b[38;5;124;03m\"\"\"\u001b[39;00m\n\u001b[1;32m   3434\u001b[0m \u001b[38;5;28;01mimport\u001b[39;00m\u001b[38;5;250m \u001b[39m\u001b[38;5;21;01mplotly\u001b[39;00m\u001b[38;5;21;01m.\u001b[39;00m\u001b[38;5;21;01mio\u001b[39;00m\u001b[38;5;250m \u001b[39m\u001b[38;5;28;01mas\u001b[39;00m\u001b[38;5;250m \u001b[39m\u001b[38;5;21;01mpio\u001b[39;00m\n\u001b[0;32m-> 3436\u001b[0m \u001b[38;5;28;01mreturn\u001b[39;00m \u001b[43mpio\u001b[49m\u001b[38;5;241;43m.\u001b[39;49m\u001b[43mshow\u001b[49m\u001b[43m(\u001b[49m\u001b[38;5;28;43mself\u001b[39;49m\u001b[43m,\u001b[49m\u001b[43m \u001b[49m\u001b[38;5;241;43m*\u001b[39;49m\u001b[43margs\u001b[49m\u001b[43m,\u001b[49m\u001b[43m \u001b[49m\u001b[38;5;241;43m*\u001b[39;49m\u001b[38;5;241;43m*\u001b[39;49m\u001b[43mkwargs\u001b[49m\u001b[43m)\u001b[49m\n",
      "File \u001b[0;32m~/miniconda3/envs/esm3/lib/python3.10/site-packages/plotly/io/_renderers.py:425\u001b[0m, in \u001b[0;36mshow\u001b[0;34m(fig, renderer, validate, **kwargs)\u001b[0m\n\u001b[1;32m    420\u001b[0m     \u001b[38;5;28;01mraise\u001b[39;00m \u001b[38;5;167;01mValueError\u001b[39;00m(\n\u001b[1;32m    421\u001b[0m         \u001b[38;5;124m\"\u001b[39m\u001b[38;5;124mMime type rendering requires ipython but it is not installed\u001b[39m\u001b[38;5;124m\"\u001b[39m\n\u001b[1;32m    422\u001b[0m     )\n\u001b[1;32m    424\u001b[0m \u001b[38;5;28;01mif\u001b[39;00m \u001b[38;5;129;01mnot\u001b[39;00m nbformat \u001b[38;5;129;01mor\u001b[39;00m Version(nbformat\u001b[38;5;241m.\u001b[39m__version__) \u001b[38;5;241m<\u001b[39m Version(\u001b[38;5;124m\"\u001b[39m\u001b[38;5;124m4.2.0\u001b[39m\u001b[38;5;124m\"\u001b[39m):\n\u001b[0;32m--> 425\u001b[0m     \u001b[38;5;28;01mraise\u001b[39;00m \u001b[38;5;167;01mValueError\u001b[39;00m(\n\u001b[1;32m    426\u001b[0m         \u001b[38;5;124m\"\u001b[39m\u001b[38;5;124mMime type rendering requires nbformat>=4.2.0 but it is not installed\u001b[39m\u001b[38;5;124m\"\u001b[39m\n\u001b[1;32m    427\u001b[0m     )\n\u001b[1;32m    429\u001b[0m display_jupyter_version_warnings()\n\u001b[1;32m    431\u001b[0m ipython_display\u001b[38;5;241m.\u001b[39mdisplay(bundle, raw\u001b[38;5;241m=\u001b[39m\u001b[38;5;28;01mTrue\u001b[39;00m)\n",
      "\u001b[0;31mValueError\u001b[0m: Mime type rendering requires nbformat>=4.2.0 but it is not installed"
     ]
    }
   ],
   "source": [
    "import numpy as np\n",
    "import os\n",
    "import pandas as pd\n",
    "from sklearn.decomposition import PCA\n",
    "from sklearn.manifold import TSNE\n",
    "import plotly.express as px\n",
    "import plotly.graph_objects as go\n",
    "\n",
    "input_dir = '/root/autodl-tmp/Wendell/pca'\n",
    "embedding_files = [f for f in os.listdir(input_dir) if f.endswith('.npy')]\n",
    "\n",
    "all_embeddings = []\n",
    "for fname in embedding_files:\n",
    "    arr = np.load(os.path.join(input_dir, fname))\n",
    "    all_embeddings.append(arr.mean(axis=0))\n",
    "all_embeddings = np.stack(all_embeddings)\n",
    "\n",
    "\n",
    "tsne = TSNE(n_components=min(50, all_embeddings.shape[0]-1),\n",
    "            random_state=42,\n",
    "            method='exact',\n",
    "            init='random')\n",
    "embeddings_tsne = tsne.fit_transform(all_embeddings)\n",
    "\n",
    "\n",
    "pca2d = PCA(n_components=2).fit_transform(embeddings_tsne)\n",
    "pca3d = PCA(n_components=3).fit_transform(embeddings_tsne)\n",
    "\n",
    "df = pd.DataFrame({\n",
    "    'File': embedding_files,\n",
    "    'x2': pca2d[:,0],\n",
    "    'y2': pca2d[:,1],\n",
    "    'x3': pca3d[:,0],\n",
    "    'y3': pca3d[:,1],\n",
    "    'z3': pca3d[:,2]\n",
    "})\n",
    "\n",
    "\n",
    "fig2d = px.scatter(df, x='x2', y='y2', text='File', \n",
    "                 title='2D Protein Embedding Visualization',\n",
    "                 labels={'x2': 'PC1', 'y2': 'PC2'},\n",
    "                 hover_name='File')\n",
    "\n",
    "fig2d.update_traces(textposition='top center', \n",
    "                  marker=dict(size=12, opacity=0.8),\n",
    "                  textfont=dict(size=10))\n",
    "fig2d.update_layout(height=800, width=1200)\n",
    "fig2d.show()\n"
   ]
  },
  {
   "cell_type": "code",
   "execution_count": null,
   "id": "5610ae31",
   "metadata": {},
   "outputs": [],
   "source": [
    "\n",
    "\n",
    "fig3d = go.Figure()\n",
    "\n",
    "fig3d.add_trace(go.Scatter3d(\n",
    "    x=df['x3'],\n",
    "    y=df['y3'],\n",
    "    z=df['z3'],\n",
    "    mode='markers+text',\n",
    "    text=df['File'],\n",
    "    textposition=\"top center\",\n",
    "    marker=dict(\n",
    "        size=8,\n",
    "        opacity=0.8\n",
    "    )\n",
    "))\n",
    "\n",
    "fig3d.update_layout(\n",
    "    title='3D Protein Embedding Visualization',\n",
    "    scene=dict(\n",
    "        xaxis_title='PC1',\n",
    "        yaxis_title='PC2',\n",
    "        zaxis_title='PC3'\n",
    "    ),\n",
    "    height=1000,\n",
    "    width=1200\n",
    ")\n",
    "fig3d.show()\n"
   ]
  }
 ],
 "metadata": {
  "kernelspec": {
   "display_name": "esm3",
   "language": "python",
   "name": "python3"
  },
  "language_info": {
   "codemirror_mode": {
    "name": "ipython",
    "version": 3
   },
   "file_extension": ".py",
   "mimetype": "text/x-python",
   "name": "python",
   "nbconvert_exporter": "python",
   "pygments_lexer": "ipython3",
   "version": "3.10.16"
  }
 },
 "nbformat": 4,
 "nbformat_minor": 5
}
